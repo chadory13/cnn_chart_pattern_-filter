{
  "nbformat": 4,
  "nbformat_minor": 0,
  "metadata": {
    "colab": {
      "provenance": [],
      "mount_file_id": "1SgFtrigh98h7ur0nXky6up4LIJa1PpxD",
      "authorship_tag": "ABX9TyMw+xyZXcMYgGneIS48o7d6",
      "include_colab_link": true
    },
    "kernelspec": {
      "name": "python3",
      "display_name": "Python 3"
    },
    "language_info": {
      "name": "python"
    }
  },
  "cells": [
    {
      "cell_type": "markdown",
      "metadata": {
        "id": "view-in-github",
        "colab_type": "text"
      },
      "source": [
        "<a href=\"https://colab.research.google.com/github/chadory13/cnn_chart_pattern_-filter/blob/main/cup%26handle.ipynb\" target=\"_parent\"><img src=\"https://colab.research.google.com/assets/colab-badge.svg\" alt=\"Open In Colab\"/></a>"
      ]
    },
    {
      "cell_type": "code",
      "execution_count": 8,
      "metadata": {
        "colab": {
          "base_uri": "https://localhost:8080/"
        },
        "id": "Sv7J84H0EiFe",
        "outputId": "3c0fb41a-c9be-4b9e-92a5-2ad3b6e56250"
      },
      "outputs": [
        {
          "output_type": "stream",
          "name": "stdout",
          "text": [
            "Found 167 images belonging to 6 classes.\n",
            "Found 41 images belonging to 6 classes.\n",
            "Epoch 1/10\n",
            "\u001b[1m21/21\u001b[0m \u001b[32m━━━━━━━━━━━━━━━━━━━━\u001b[0m\u001b[37m\u001b[0m \u001b[1m18s\u001b[0m 282ms/step - accuracy: 0.2101 - loss: 1.6993 - val_accuracy: 0.2439 - val_loss: 1.5042\n",
            "Epoch 2/10\n",
            "\u001b[1m21/21\u001b[0m \u001b[32m━━━━━━━━━━━━━━━━━━━━\u001b[0m\u001b[37m\u001b[0m \u001b[1m2s\u001b[0m 85ms/step - accuracy: 0.2316 - loss: 1.5681 - val_accuracy: 0.2439 - val_loss: 1.4795\n",
            "Epoch 3/10\n",
            "\u001b[1m21/21\u001b[0m \u001b[32m━━━━━━━━━━━━━━━━━━━━\u001b[0m\u001b[37m\u001b[0m \u001b[1m3s\u001b[0m 92ms/step - accuracy: 0.3014 - loss: 1.5058 - val_accuracy: 0.2439 - val_loss: 1.4887\n",
            "Epoch 4/10\n",
            "\u001b[1m21/21\u001b[0m \u001b[32m━━━━━━━━━━━━━━━━━━━━\u001b[0m\u001b[37m\u001b[0m \u001b[1m2s\u001b[0m 98ms/step - accuracy: 0.2029 - loss: 1.6015 - val_accuracy: 0.2439 - val_loss: 1.5175\n",
            "Epoch 5/10\n",
            "\u001b[1m21/21\u001b[0m \u001b[32m━━━━━━━━━━━━━━━━━━━━\u001b[0m\u001b[37m\u001b[0m \u001b[1m2s\u001b[0m 84ms/step - accuracy: 0.1929 - loss: 1.5529 - val_accuracy: 0.2439 - val_loss: 1.4813\n",
            "Epoch 6/10\n",
            "\u001b[1m21/21\u001b[0m \u001b[32m━━━━━━━━━━━━━━━━━━━━\u001b[0m\u001b[37m\u001b[0m \u001b[1m3s\u001b[0m 148ms/step - accuracy: 0.2902 - loss: 1.4752 - val_accuracy: 0.2439 - val_loss: 1.5049\n",
            "Epoch 7/10\n",
            "\u001b[1m21/21\u001b[0m \u001b[32m━━━━━━━━━━━━━━━━━━━━\u001b[0m\u001b[37m\u001b[0m \u001b[1m4s\u001b[0m 110ms/step - accuracy: 0.2357 - loss: 1.5898 - val_accuracy: 0.2439 - val_loss: 1.5180\n",
            "Epoch 8/10\n",
            "\u001b[1m21/21\u001b[0m \u001b[32m━━━━━━━━━━━━━━━━━━━━\u001b[0m\u001b[37m\u001b[0m \u001b[1m2s\u001b[0m 102ms/step - accuracy: 0.2543 - loss: 1.5629 - val_accuracy: 0.2439 - val_loss: 1.4805\n",
            "Epoch 9/10\n",
            "\u001b[1m21/21\u001b[0m \u001b[32m━━━━━━━━━━━━━━━━━━━━\u001b[0m\u001b[37m\u001b[0m \u001b[1m2s\u001b[0m 85ms/step - accuracy: 0.2282 - loss: 1.5231 - val_accuracy: 0.2439 - val_loss: 1.5017\n",
            "Epoch 10/10\n",
            "\u001b[1m21/21\u001b[0m \u001b[32m━━━━━━━━━━━━━━━━━━━━\u001b[0m\u001b[37m\u001b[0m \u001b[1m2s\u001b[0m 95ms/step - accuracy: 0.2535 - loss: 1.4936 - val_accuracy: 0.2439 - val_loss: 1.4979\n",
            "\u001b[1m1/1\u001b[0m \u001b[32m━━━━━━━━━━━━━━━━━━━━\u001b[0m\u001b[37m\u001b[0m \u001b[1m3s\u001b[0m 3s/step\n",
            "/content/drive/MyDrive/Colab Notebooks/cup/test.png/test1.png → Predicted class: cupwithhandle\n",
            "\u001b[1m1/1\u001b[0m \u001b[32m━━━━━━━━━━━━━━━━━━━━\u001b[0m\u001b[37m\u001b[0m \u001b[1m0s\u001b[0m 51ms/step\n",
            "/content/drive/MyDrive/Colab Notebooks/cup/test.png/test2.png → Predicted class: cupwithhandle\n",
            "이미지 없음: /content/drive/MyDrive/Colab Notebooks/cuptest.png/test3.png\n",
            "\u001b[1m1/1\u001b[0m \u001b[32m━━━━━━━━━━━━━━━━━━━━\u001b[0m\u001b[37m\u001b[0m \u001b[1m0s\u001b[0m 44ms/step\n",
            "/content/drive/MyDrive/Colab Notebooks/cup/test.png/test4.png → Predicted class: cupwithhandle\n",
            "\u001b[1m1/1\u001b[0m \u001b[32m━━━━━━━━━━━━━━━━━━━━\u001b[0m\u001b[37m\u001b[0m \u001b[1m0s\u001b[0m 50ms/step\n",
            "/content/drive/MyDrive/Colab Notebooks/cup/test.png/test5.png → Predicted class: cupwithhandle\n",
            "\u001b[1m1/1\u001b[0m \u001b[32m━━━━━━━━━━━━━━━━━━━━\u001b[0m\u001b[37m\u001b[0m \u001b[1m0s\u001b[0m 42ms/step\n",
            "/content/drive/MyDrive/Colab Notebooks/cup/test.png/test6.png → Predicted class: cupwithhandle\n",
            "\u001b[1m1/1\u001b[0m \u001b[32m━━━━━━━━━━━━━━━━━━━━\u001b[0m\u001b[37m\u001b[0m \u001b[1m0s\u001b[0m 43ms/step\n",
            "/content/drive/MyDrive/Colab Notebooks/cup/test.png/test7.png → Predicted class: cupwithhandle\n",
            "\u001b[1m1/1\u001b[0m \u001b[32m━━━━━━━━━━━━━━━━━━━━\u001b[0m\u001b[37m\u001b[0m \u001b[1m0s\u001b[0m 52ms/step\n",
            "/content/drive/MyDrive/Colab Notebooks/cup/test.png/test8.png → Predicted class: cupwithhandle\n"
          ]
        }
      ],
      "source": [
        "\n",
        "from tensorflow.keras.preprocessing.image import ImageDataGenerator\n",
        "from tensorflow.keras.applications import EfficientNetB0\n",
        "from tensorflow.keras import layers, models\n",
        "\n",
        "\n",
        "import numpy as np\n",
        "import cv2\n",
        "\n",
        "def clip_to_image_size(boxes, image_height, image_width):\n",
        "    \"\"\"\n",
        "    boxes: Tensor or ndarray of shape (N, 4), each box = [x1, y1, x2, y2]\n",
        "    image_height, image_width: int\n",
        "    \"\"\"\n",
        "    boxes[:, 0] = np.clip(boxes[:, 0], 0, image_width)    # x1\n",
        "    boxes[:, 1] = np.clip(boxes[:, 1], 0, image_height)   # y1\n",
        "    boxes[:, 2] = np.clip(boxes[:, 2], 0, image_width)    # x2\n",
        "    boxes[:, 3] = np.clip(boxes[:, 3], 0, image_height)   # y2\n",
        "    return boxes\n",
        "\n",
        "# 데이터 증강 및 로딩\n",
        "datagen = ImageDataGenerator(\n",
        "    rescale=1./255,\n",
        "    validation_split=0.2,\n",
        "    rotation_range=8,\n",
        "    width_shift_range=0.1,\n",
        "    height_shift_range=0.1,\n",
        ")\n",
        "\n",
        "# Google Drive 경로 설정\n",
        "google_drive_path = r'/content/drive/MyDrive/Colab Notebooks/cup'\n",
        "\n",
        "train_gen = datagen.flow_from_directory(\n",
        "    google_drive_path,\n",
        "    target_size=(64,64),\n",
        "    batch_size=8,\n",
        "    class_mode='categorical',    # 다중 클래스 분류는 'categorical'\n",
        "    subset='training'\n",
        ")\n",
        "\n",
        "val_gen = datagen.flow_from_directory(\n",
        "    google_drive_path,\n",
        "    target_size=(64,64),\n",
        "    batch_size=8,\n",
        "    class_mode='categorical',\n",
        "    subset='validation'\n",
        ")\n",
        "\n",
        "# EfficientNetB0를 사전 학습 가중치로 불러오고, 최상위 분류층은 직접 붙임\n",
        "base_model = EfficientNetB0(weights='imagenet', include_top=False, input_shape=(64,64,3))\n",
        "base_model.trainable = False\n",
        "\n",
        "num_classes = train_gen.num_classes\n",
        "\n",
        "model = models.Sequential([\n",
        "    base_model,\n",
        "    layers.GlobalAveragePooling2D(),\n",
        "    layers.Dense(num_classes, activation='softmax')\n",
        "])\n",
        "\n",
        "model.compile(\n",
        "    optimizer='adam',\n",
        "    loss='categorical_crossentropy',\n",
        "    metrics=['accuracy']\n",
        ")\n",
        "\n",
        "# 모델 학습\n",
        "model.fit(train_gen, epochs=10, validation_data=val_gen)\n",
        "\n",
        "# 학습 직후에만 필요한 게 아니라,\n",
        "# 예측을 하는 모든 셀에서 inv_class_indices가 필요합니다.\n",
        "class_indices     = train_gen.class_indices\n",
        "inv_class_indices = {v:k for k,v in class_indices.items()}\n",
        "\n",
        "\n",
        "# 1) 예측할 이미지 경로 리스트 정의\n",
        "test_image_paths = [\n",
        "    '/content/drive/MyDrive/Colab Notebooks/cup/test.png/test1.png',\n",
        "    '/content/drive/MyDrive/Colab Notebooks/cup/test.png/test2.png',\n",
        "    '/content/drive/MyDrive/Colab Notebooks/cup/test.png/test3.png',\n",
        "    '/content/drive/MyDrive/Colab Notebooks/cup/test.png/test4.png',\n",
        "    '/content/drive/MyDrive/Colab Notebooks/cup/test.png/test5.png',\n",
        "    '/content/drive/MyDrive/Colab Notebooks/cup/test.png/test6.png',\n",
        "    '/content/drive/MyDrive/Colab Notebooks/cup/test.png/test7.png',\n",
        "    '/content/drive/MyDrive/Colab Notebooks/cup/test.png/test8.png'\n",
        "\n",
        "]\n",
        "\n",
        "# ] 2) for문으로 리스트 순회\n",
        "for path in test_image_paths:\n",
        "    img = cv2.imread(path)\n",
        "    # ] 3) 파일 존재 여부 체크\n",
        "    if img is None:\n",
        "        print(f\"이미지 없음: {path}\")\n",
        "        continue\n",
        "\n",
        "    img = cv2.resize(img, (64,64)) / 255.0\n",
        "    pred = model.predict(np.expand_dims(img, axis=0))\n",
        "    pred_class_idx = np.argmax(pred[0])\n",
        "\n",
        "    # [변경] 4) 출력 메시지에 파일명도 함께 표시\n",
        "    print(f\"{path} → Predicted class: {inv_class_indices[pred_class_idx]}\")"
      ]
    },
    {
      "cell_type": "code",
      "source": [
        "from google.colab import drive\n",
        "drive.mount('/content/drive')"
      ],
      "metadata": {
        "colab": {
          "base_uri": "https://localhost:8080/"
        },
        "id": "1vSgyscNFSCH",
        "outputId": "4a21b2ab-98f9-4b73-a432-f4400ca66894"
      },
      "execution_count": null,
      "outputs": [
        {
          "output_type": "stream",
          "name": "stdout",
          "text": [
            "Drive already mounted at /content/drive; to attempt to forcibly remount, call drive.mount(\"/content/drive\", force_remount=True).\n"
          ]
        }
      ]
    }
  ]
}
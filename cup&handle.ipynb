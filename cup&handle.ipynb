{
  "nbformat": 4,
  "nbformat_minor": 0,
  "metadata": {
    "colab": {
      "provenance": [],
      "mount_file_id": "1SgFtrigh98h7ur0nXky6up4LIJa1PpxD",
      "authorship_tag": "ABX9TyMw+xyZXcMYgGneIS48o7d6",
      "include_colab_link": true
    },
    "kernelspec": {
      "name": "python3",
      "display_name": "Python 3"
    },
    "language_info": {
      "name": "python"
    }
  },
  "cells": [
    {
      "cell_type": "markdown",
      "metadata": {
        "id": "view-in-github",
        "colab_type": "text"
      },
      "source": [
        "<a href=\"https://colab.research.google.com/github/chadory13/cnn_chart_pattern_-filter/blob/main/cup%26handle.ipynb\" target=\"_parent\"><img src=\"https://colab.research.google.com/assets/colab-badge.svg\" alt=\"Open In Colab\"/></a>"
      ]
    },
    {
      "cell_type": "code",
      "execution_count": 2,
      "metadata": {
        "colab": {
          "base_uri": "https://localhost:8080/"
        },
        "id": "Sv7J84H0EiFe",
        "outputId": "55150c57-508d-49de-e8e9-c545a8f0336a"
      },
      "outputs": [
        {
          "output_type": "stream",
          "name": "stdout",
          "text": [
            "Found 167 images belonging to 6 classes.\n",
            "Found 41 images belonging to 6 classes.\n",
            "Epoch 1/10\n",
            "\u001b[1m21/21\u001b[0m \u001b[32m━━━━━━━━━━━━━━━━━━━━\u001b[0m\u001b[37m\u001b[0m \u001b[1m19s\u001b[0m 274ms/step - accuracy: 0.2234 - loss: 1.6641 - val_accuracy: 0.2439 - val_loss: 1.5031\n",
            "Epoch 2/10\n",
            "\u001b[1m21/21\u001b[0m \u001b[32m━━━━━━━━━━━━━━━━━━━━\u001b[0m\u001b[37m\u001b[0m \u001b[1m2s\u001b[0m 106ms/step - accuracy: 0.2363 - loss: 1.5328 - val_accuracy: 0.2439 - val_loss: 1.4945\n",
            "Epoch 3/10\n",
            "\u001b[1m21/21\u001b[0m \u001b[32m━━━━━━━━━━━━━━━━━━━━\u001b[0m\u001b[37m\u001b[0m \u001b[1m3s\u001b[0m 157ms/step - accuracy: 0.2745 - loss: 1.4918 - val_accuracy: 0.2439 - val_loss: 1.4960\n",
            "Epoch 4/10\n",
            "\u001b[1m21/21\u001b[0m \u001b[32m━━━━━━━━━━━━━━━━━━━━\u001b[0m\u001b[37m\u001b[0m \u001b[1m4s\u001b[0m 104ms/step - accuracy: 0.1904 - loss: 1.5278 - val_accuracy: 0.2439 - val_loss: 1.4844\n",
            "Epoch 5/10\n",
            "\u001b[1m21/21\u001b[0m \u001b[32m━━━━━━━━━━━━━━━━━━━━\u001b[0m\u001b[37m\u001b[0m \u001b[1m2s\u001b[0m 98ms/step - accuracy: 0.2037 - loss: 1.5378 - val_accuracy: 0.2439 - val_loss: 1.4776\n",
            "Epoch 6/10\n",
            "\u001b[1m21/21\u001b[0m \u001b[32m━━━━━━━━━━━━━━━━━━━━\u001b[0m\u001b[37m\u001b[0m \u001b[1m2s\u001b[0m 97ms/step - accuracy: 0.2421 - loss: 1.5286 - val_accuracy: 0.2439 - val_loss: 1.4750\n",
            "Epoch 7/10\n",
            "\u001b[1m21/21\u001b[0m \u001b[32m━━━━━━━━━━━━━━━━━━━━\u001b[0m\u001b[37m\u001b[0m \u001b[1m2s\u001b[0m 96ms/step - accuracy: 0.1903 - loss: 1.5261 - val_accuracy: 0.2439 - val_loss: 1.4773\n",
            "Epoch 8/10\n",
            "\u001b[1m21/21\u001b[0m \u001b[32m━━━━━━━━━━━━━━━━━━━━\u001b[0m\u001b[37m\u001b[0m \u001b[1m4s\u001b[0m 179ms/step - accuracy: 0.2403 - loss: 1.5372 - val_accuracy: 0.2439 - val_loss: 1.4976\n",
            "Epoch 9/10\n",
            "\u001b[1m21/21\u001b[0m \u001b[32m━━━━━━━━━━━━━━━━━━━━\u001b[0m\u001b[37m\u001b[0m \u001b[1m4s\u001b[0m 101ms/step - accuracy: 0.1794 - loss: 1.5442 - val_accuracy: 0.2439 - val_loss: 1.4819\n",
            "Epoch 10/10\n",
            "\u001b[1m21/21\u001b[0m \u001b[32m━━━━━━━━━━━━━━━━━━━━\u001b[0m\u001b[37m\u001b[0m \u001b[1m2s\u001b[0m 99ms/step - accuracy: 0.2551 - loss: 1.5274 - val_accuracy: 0.2439 - val_loss: 1.5072\n",
            "\u001b[1m1/1\u001b[0m \u001b[32m━━━━━━━━━━━━━━━━━━━━\u001b[0m\u001b[37m\u001b[0m \u001b[1m3s\u001b[0m 3s/step\n",
            "/content/drive/MyDrive/Colab Notebooks/cup/test.png/test1.png → Predicted class: other3\n",
            "\u001b[1m1/1\u001b[0m \u001b[32m━━━━━━━━━━━━━━━━━━━━\u001b[0m\u001b[37m\u001b[0m \u001b[1m0s\u001b[0m 50ms/step\n",
            "/content/drive/MyDrive/Colab Notebooks/cup/test.png/test2.png → Predicted class: other3\n",
            "\u001b[1m1/1\u001b[0m \u001b[32m━━━━━━━━━━━━━━━━━━━━\u001b[0m\u001b[37m\u001b[0m \u001b[1m0s\u001b[0m 51ms/step\n",
            "/content/drive/MyDrive/Colab Notebooks/cup/test.png/test3.png → Predicted class: other3\n",
            "\u001b[1m1/1\u001b[0m \u001b[32m━━━━━━━━━━━━━━━━━━━━\u001b[0m\u001b[37m\u001b[0m \u001b[1m0s\u001b[0m 51ms/step\n",
            "/content/drive/MyDrive/Colab Notebooks/cup/test.png/test4.png → Predicted class: other3\n",
            "\u001b[1m1/1\u001b[0m \u001b[32m━━━━━━━━━━━━━━━━━━━━\u001b[0m\u001b[37m\u001b[0m \u001b[1m0s\u001b[0m 49ms/step\n",
            "/content/drive/MyDrive/Colab Notebooks/cup/test.png/test5.png → Predicted class: other3\n",
            "\u001b[1m1/1\u001b[0m \u001b[32m━━━━━━━━━━━━━━━━━━━━\u001b[0m\u001b[37m\u001b[0m \u001b[1m0s\u001b[0m 50ms/step\n",
            "/content/drive/MyDrive/Colab Notebooks/cup/test.png/test6.png → Predicted class: other3\n",
            "\u001b[1m1/1\u001b[0m \u001b[32m━━━━━━━━━━━━━━━━━━━━\u001b[0m\u001b[37m\u001b[0m \u001b[1m0s\u001b[0m 48ms/step\n",
            "/content/drive/MyDrive/Colab Notebooks/cup/test.png/test7.png → Predicted class: other3\n",
            "\u001b[1m1/1\u001b[0m \u001b[32m━━━━━━━━━━━━━━━━━━━━\u001b[0m\u001b[37m\u001b[0m \u001b[1m0s\u001b[0m 53ms/step\n",
            "/content/drive/MyDrive/Colab Notebooks/cup/test.png/test8.png → Predicted class: other3\n"
          ]
        }
      ],
      "source": [
        "\n",
        "from tensorflow.keras.preprocessing.image import ImageDataGenerator\n",
        "from tensorflow.keras.applications import EfficientNetB0\n",
        "from tensorflow.keras import layers, models\n",
        "\n",
        "\n",
        "import numpy as np\n",
        "import cv2\n",
        "\n",
        "def clip_to_image_size(boxes, image_height, image_width):\n",
        "    \"\"\"\n",
        "    boxes: Tensor or ndarray of shape (N, 4), each box = [x1, y1, x2, y2]\n",
        "    image_height, image_width: int\n",
        "    \"\"\"\n",
        "    boxes[:, 0] = np.clip(boxes[:, 0], 0, image_width)    # x1\n",
        "    boxes[:, 1] = np.clip(boxes[:, 1], 0, image_height)   # y1\n",
        "    boxes[:, 2] = np.clip(boxes[:, 2], 0, image_width)    # x2\n",
        "    boxes[:, 3] = np.clip(boxes[:, 3], 0, image_height)   # y2\n",
        "    return boxes\n",
        "\n",
        "# 데이터 증강 및 로딩\n",
        "datagen = ImageDataGenerator(\n",
        "    rescale=1./255,\n",
        "    validation_split=0.2,\n",
        "    rotation_range=8,\n",
        "    width_shift_range=0.1,\n",
        "    height_shift_range=0.1,\n",
        ")\n",
        "\n",
        "# Google Drive 경로 설정\n",
        "google_drive_path = r'/content/drive/MyDrive/Colab Notebooks/cup'\n",
        "\n",
        "train_gen = datagen.flow_from_directory(\n",
        "    google_drive_path,\n",
        "    target_size=(64,64),\n",
        "    batch_size=8,\n",
        "    class_mode='categorical',    # 다중 클래스 분류는 'categorical'\n",
        "    subset='training'\n",
        ")\n",
        "\n",
        "val_gen = datagen.flow_from_directory(\n",
        "    google_drive_path,\n",
        "    target_size=(64,64),\n",
        "    batch_size=8,\n",
        "    class_mode='categorical',\n",
        "    subset='validation'\n",
        ")\n",
        "\n",
        "# EfficientNetB0를 사전 학습 가중치로 불러오고, 최상위 분류층은 직접 붙임\n",
        "base_model = EfficientNetB0(weights='imagenet', include_top=False, input_shape=(64,64,3))\n",
        "base_model.trainable = False\n",
        "\n",
        "num_classes = train_gen.num_classes\n",
        "\n",
        "model = models.Sequential([\n",
        "    base_model,\n",
        "    layers.GlobalAveragePooling2D(),\n",
        "    layers.Dense(num_classes, activation='softmax')\n",
        "])\n",
        "\n",
        "model.compile(\n",
        "    optimizer='adam',\n",
        "    loss='categorical_crossentropy',\n",
        "    metrics=['accuracy']\n",
        ")\n",
        "\n",
        "# 모델 학습\n",
        "model.fit(train_gen, epochs=10, validation_data=val_gen)\n",
        "\n",
        "# 학습 직후에만 필요한 게 아니라,\n",
        "# 예측을 하는 모든 셀에서 inv_class_indices가 필요합니다.\n",
        "class_indices     = train_gen.class_indices\n",
        "inv_class_indices = {v:k for k,v in class_indices.items()}\n",
        "\n",
        "\n",
        "# 1) 예측할 이미지 경로 리스트 정의\n",
        "test_image_paths = [\n",
        "    '/content/drive/MyDrive/Colab Notebooks/cup/test.png/test1.png',\n",
        "    '/content/drive/MyDrive/Colab Notebooks/cup/test.png/test2.png',\n",
        "    '/content/drive/MyDrive/Colab Notebooks/cup/test.png/test3.png',\n",
        "    '/content/drive/MyDrive/Colab Notebooks/cup/test.png/test4.png',\n",
        "    '/content/drive/MyDrive/Colab Notebooks/cup/test.png/test5.png',\n",
        "    '/content/drive/MyDrive/Colab Notebooks/cup/test.png/test6.png',\n",
        "    '/content/drive/MyDrive/Colab Notebooks/cup/test.png/test7.png',\n",
        "    '/content/drive/MyDrive/Colab Notebooks/cup/test.png/test8.png'\n",
        "\n",
        "]\n",
        "\n",
        "# ] 2) for문으로 리스트 순회\n",
        "for path in test_image_paths:\n",
        "    img = cv2.imread(path)\n",
        "    # ] 3) 파일 존재 여부 체크\n",
        "    if img is None:\n",
        "        print(f\"이미지 없음: {path}\")\n",
        "        continue\n",
        "\n",
        "    img = cv2.resize(img, (64,64)) / 255.0\n",
        "    pred = model.predict(np.expand_dims(img, axis=0))\n",
        "    pred_class_idx = np.argmax(pred[0])\n",
        "\n",
        "    # [변경] 4) 출력 메시지에 파일명도 함께 표시\n",
        "    print(f\"{path} → Predicted class: {inv_class_indices[pred_class_idx]}\")"
      ]
    },
    {
      "cell_type": "code",
      "source": [
        "from google.colab import drive\n",
        "drive.mount('/content/drive')"
      ],
      "metadata": {
        "colab": {
          "base_uri": "https://localhost:8080/"
        },
        "id": "1vSgyscNFSCH",
        "outputId": "4a21b2ab-98f9-4b73-a432-f4400ca66894"
      },
      "execution_count": null,
      "outputs": [
        {
          "output_type": "stream",
          "name": "stdout",
          "text": [
            "Drive already mounted at /content/drive; to attempt to forcibly remount, call drive.mount(\"/content/drive\", force_remount=True).\n"
          ]
        }
      ]
    }
  ]
}